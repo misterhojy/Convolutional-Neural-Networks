{
  "nbformat": 4,
  "nbformat_minor": 0,
  "metadata": {
    "colab": {
      "provenance": []
    },
    "kernelspec": {
      "name": "python3",
      "display_name": "Python 3"
    },
    "language_info": {
      "name": "python"
    }
  },
  "cells": [
    {
      "cell_type": "markdown",
      "source": [
        "<h1><b>CSE 353:MACHINE LEARNING</b></h1>\n",
        "<h3><b>PRACTICAL HOMEWORK 3 - USING PYTORCH TO BUILD A CNN</b></h3>\n",
        "\n",
        "\n",
        "---\n",
        "\n"
      ],
      "metadata": {
        "id": "htSF3Y3gt0Oq"
      }
    },
    {
      "cell_type": "markdown",
      "source": [
        "**Due date: 11:59pm on December 09, 2024**\n",
        "\n",
        "In this semester, we will use Google Colab for the assignments, which allows us to utilize resources that some of us might not have in their local machines such as GPUs. You will need to use your Stony Brook (*.stonybrook.edu) account for coding and Google Drive to save your results.\n",
        "\n",
        "## Google Colab Tutorial\n",
        "---\n",
        "Go to https://colab.research.google.com/notebooks/, you will see a tutorial named \"Welcome to Colaboratory\" file, where you can learn the basics of using google colab.\n",
        "\n",
        "Settings used for assignments: ***Edit -> Notebook Settings -> Runtime Type (Python 3)***.\n",
        "\n",
        "\n",
        "## Description\n",
        "---\n",
        "This project is an introduction to deep learning tools for Image Processing. You will experiment and train Convolutional Neural Networks (CNN) for image classification using [PyTorch](http://pytorch.org). Specifically, in this assignment, you will experiment with various CNN architectures using PyTorch to classify images from the Fashion MNIST dataset.\n",
        "\n",
        "You will first explore the architecture of a Simple CNN to understand its key components and what each of them do. You will be introduced to certain terms - convolutional layers, activation functions, pooling layers, etc. - and how they work together to extract features from images. Essentially, you will develop an understanding of how a CNN works.\n",
        "\n",
        "Your first task will be to implement a basic CNN from scratch, and also understand how each layer processes the input images & data and contributes to the overall performance of the model. You will train your CNN on the Fashion MNIST dataset, which contains greyscale images of clothing items, and evaluate its performance in terms of classification of a test set.\n",
        "\n",
        "Next, you will explore hyperparameter tuning of CNN models. You will experiment with different architectures of CNNs and observe the resulting effects in model performance.\n",
        "\n",
        "By the end of this assignment, you are expected to have a solid understanding of how to implement and train CNNs for image classification tasks. This project will prepare you for more advanced deep learning applications, enabling you to tackle real-world computer vision challenges with confidence.\n",
        "\n",
        "\n",
        "## Some Tutorials (PyTorch)\n",
        "---\n",
        "- You will be using PyTorch for deep learning toolbox (follow the [link](http://pytorch.org) for installation).\n",
        "- For PyTorch beginners, please read this [tutorial](http://pytorch.org/tutorials/beginner/deep_learning_60min_blitz.html) before doing your homework.\n",
        "- Feel free to study more tutorials at http://pytorch.org/tutorials/.\n",
        "- Find cool visualization here at http://playground.tensorflow.org.\n",
        "\n",
        "\n",
        "\n",
        "---\n",
        "\n",
        "\n",
        "\n",
        "---\n",
        "\n"
      ],
      "metadata": {
        "id": "k6KXj7v_ivhJ"
      }
    },
    {
      "cell_type": "markdown",
      "source": [
        "#Convolutional Neural Network (CNN)\n",
        "A Convolutional Neural Network (CNN) is a deep learning\n",
        "model that can automatically and adaptively learn spatial hierarchies of features from input images. This is acieved using layers of convolutions and pooling.\n",
        "\n",
        "Due to the ability of CNNs in capturing spatial features, they are commonly used for image classification, object detection, and image segmentation.\n",
        "\n",
        "In this practical, we will be focusing on building a CNN and using it to classify images from the Fashion MNIST dataset.\n",
        "\n",
        "\n",
        "---\n",
        "\n",
        "\n",
        "\n",
        "---\n",
        "\n"
      ],
      "metadata": {
        "id": "_fFuZDF9vHwy"
      }
    },
    {
      "cell_type": "markdown",
      "source": [
        "<h2><b>SECTION 1: BUILDING A SIMPLE CNN</b></h2>\n",
        "<h4>[35/100 POINTS]</h4>\n",
        "\n",
        "\n",
        "---\n",
        "\n"
      ],
      "metadata": {
        "id": "cjft8pTRC1e2"
      }
    },
    {
      "cell_type": "markdown",
      "source": [
        "<b>I. IMPORT LIBRARIES</b>\n",
        "\n",
        "- Import the PyTorch library and the necessary modules from it for building and training a CNN.\n",
        "- Additionally, import matplotlib to plot training and validation graphs.\n"
      ],
      "metadata": {
        "id": "rotaJxzywM7R"
      }
    },
    {
      "cell_type": "code",
      "execution_count": null,
      "metadata": {
        "id": "W6phDftDtki4"
      },
      "outputs": [],
      "source": [
        "# Import Libraries\n",
        "import torch\n",
        "import torch.nn as nn\n",
        "import torch.optim as optim\n",
        "from torch.utils.data import DataLoader, random_split\n",
        "from torchsummary import summary\n",
        "import torchvision.transforms as transforms\n",
        "import torchvision.datasets as datasets\n",
        "import matplotlib.pyplot as plt"
      ]
    },
    {
      "cell_type": "markdown",
      "source": [
        "\n",
        "\n",
        "---\n",
        "\n"
      ],
      "metadata": {
        "id": "odFcAwbsxjCd"
      }
    },
    {
      "cell_type": "markdown",
      "source": [
        "<b>II. LOAD DATASET</b>\n",
        "\n",
        "We download the pre-split train and test datasets as provided by the FashionMNIST class using the below code."
      ],
      "metadata": {
        "id": "51twOBsPxMf7"
      }
    },
    {
      "cell_type": "code",
      "source": [
        "# Load the Fashion MNIST dataset\n",
        "transform = transforms.Compose([transforms.ToTensor(), transforms.Normalize((0.5,), (0.5,))])\n",
        "train_dataset = datasets.FashionMNIST(root='./data', train=True, transform=transform, download=True)\n",
        "test_dataset = datasets.FashionMNIST(root='./data', train=False, transform=transform, download=True)"
      ],
      "metadata": {
        "id": "05OBy4FWxLCO",
        "colab": {
          "base_uri": "https://localhost:8080/"
        },
        "outputId": "2f11c4e2-af2f-4dcb-e6ef-d6a55b84342e"
      },
      "execution_count": null,
      "outputs": [
        {
          "output_type": "stream",
          "name": "stdout",
          "text": [
            "Downloading http://fashion-mnist.s3-website.eu-central-1.amazonaws.com/train-images-idx3-ubyte.gz\n",
            "Downloading http://fashion-mnist.s3-website.eu-central-1.amazonaws.com/train-images-idx3-ubyte.gz to ./data/FashionMNIST/raw/train-images-idx3-ubyte.gz\n"
          ]
        },
        {
          "output_type": "stream",
          "name": "stderr",
          "text": [
            "100%|██████████| 26.4M/26.4M [00:01<00:00, 17.0MB/s]\n"
          ]
        },
        {
          "output_type": "stream",
          "name": "stdout",
          "text": [
            "Extracting ./data/FashionMNIST/raw/train-images-idx3-ubyte.gz to ./data/FashionMNIST/raw\n",
            "\n",
            "Downloading http://fashion-mnist.s3-website.eu-central-1.amazonaws.com/train-labels-idx1-ubyte.gz\n",
            "Downloading http://fashion-mnist.s3-website.eu-central-1.amazonaws.com/train-labels-idx1-ubyte.gz to ./data/FashionMNIST/raw/train-labels-idx1-ubyte.gz\n"
          ]
        },
        {
          "output_type": "stream",
          "name": "stderr",
          "text": [
            "100%|██████████| 29.5k/29.5k [00:00<00:00, 274kB/s]\n"
          ]
        },
        {
          "output_type": "stream",
          "name": "stdout",
          "text": [
            "Extracting ./data/FashionMNIST/raw/train-labels-idx1-ubyte.gz to ./data/FashionMNIST/raw\n",
            "\n",
            "Downloading http://fashion-mnist.s3-website.eu-central-1.amazonaws.com/t10k-images-idx3-ubyte.gz\n",
            "Downloading http://fashion-mnist.s3-website.eu-central-1.amazonaws.com/t10k-images-idx3-ubyte.gz to ./data/FashionMNIST/raw/t10k-images-idx3-ubyte.gz\n"
          ]
        },
        {
          "output_type": "stream",
          "name": "stderr",
          "text": [
            "100%|██████████| 4.42M/4.42M [00:00<00:00, 5.01MB/s]\n"
          ]
        },
        {
          "output_type": "stream",
          "name": "stdout",
          "text": [
            "Extracting ./data/FashionMNIST/raw/t10k-images-idx3-ubyte.gz to ./data/FashionMNIST/raw\n",
            "\n",
            "Downloading http://fashion-mnist.s3-website.eu-central-1.amazonaws.com/t10k-labels-idx1-ubyte.gz\n",
            "Downloading http://fashion-mnist.s3-website.eu-central-1.amazonaws.com/t10k-labels-idx1-ubyte.gz to ./data/FashionMNIST/raw/t10k-labels-idx1-ubyte.gz\n"
          ]
        },
        {
          "output_type": "stream",
          "name": "stderr",
          "text": [
            "100%|██████████| 5.15k/5.15k [00:00<00:00, 14.5MB/s]\n"
          ]
        },
        {
          "output_type": "stream",
          "name": "stdout",
          "text": [
            "Extracting ./data/FashionMNIST/raw/t10k-labels-idx1-ubyte.gz to ./data/FashionMNIST/raw\n",
            "\n"
          ]
        }
      ]
    },
    {
      "cell_type": "markdown",
      "source": [
        "We split the train dataset into training and validation sets using a 80-20 split"
      ],
      "metadata": {
        "id": "LlK1_hwixqNL"
      }
    },
    {
      "cell_type": "code",
      "source": [
        "# split train set into train and validation sets\n",
        "train_size = int(0.8 * len(train_dataset))\n",
        "val_size = len(train_dataset) - train_size\n",
        "train_dataset, val_dataset = random_split(train_dataset, [train_size, val_size])"
      ],
      "metadata": {
        "id": "9DjFyEGhyWfB"
      },
      "execution_count": null,
      "outputs": []
    },
    {
      "cell_type": "markdown",
      "source": [
        "**CHECKPOINT 1.1**\n",
        "<br> First 5 Train Set Images"
      ],
      "metadata": {
        "id": "YHF_UmUY9Xaa"
      }
    },
    {
      "cell_type": "code",
      "source": [
        "def show_images(dataset, num_images=5):\n",
        "    fig, axes = plt.subplots(1, num_images, figsize=(10, 2))\n",
        "    for i in range(num_images):\n",
        "        image, label = dataset[i]\n",
        "        image = image.squeeze().numpy()  # Remove channel dimension and convert to numpy\n",
        "        axes[i].imshow(image, cmap='gray')\n",
        "        axes[i].set_title(f\"Label: {label}\")\n",
        "        axes[i].axis('off')\n",
        "    plt.show()"
      ],
      "metadata": {
        "id": "tEM4VdLU9VVZ"
      },
      "execution_count": null,
      "outputs": []
    },
    {
      "cell_type": "code",
      "source": [
        "print(\"CHECKPOINT 1.1\\n\")\n",
        "# Display first 5 images from the train dataset\n",
        "show_images(train_dataset)"
      ],
      "metadata": {
        "id": "QyFkt2CR9Z8S",
        "colab": {
          "base_uri": "https://localhost:8080/",
          "height": 228
        },
        "outputId": "32a164ba-4dfc-4452-9a68-2ab3ee2b7c98"
      },
      "execution_count": null,
      "outputs": [
        {
          "output_type": "stream",
          "name": "stdout",
          "text": [
            "CHECKPOINT 1.1\n",
            "\n"
          ]
        },
        {
          "output_type": "display_data",
          "data": {
            "text/plain": [
              "<Figure size 1000x200 with 5 Axes>"
            ],
            "image/png": "[encoded data removed]"
          },
          "metadata": {}
        }
      ]
    },
    {
      "cell_type": "markdown",
      "source": [
        "**We** prepare Dataloaders for the train, test, and validation sets"
      ],
      "metadata": {
        "id": "_DsDfKZVyYOq"
      }
    },
    {
      "cell_type": "code",
      "source": [
        "# define dataloaders\n",
        "train_loader = DataLoader(train_dataset, batch_size=64, shuffle=True)\n",
        "val_loader = DataLoader(val_dataset, batch_size=64, shuffle=True)\n",
        "test_loader = DataLoader(test_dataset, batch_size=64, shuffle=False)"
      ],
      "metadata": {
        "id": "_Gh7YhpTyh7p"
      },
      "execution_count": null,
      "outputs": []
    },
    {
      "cell_type": "markdown",
      "source": [
        "\n",
        "\n",
        "---\n",
        "\n"
      ],
      "metadata": {
        "id": "_Oat8vR6zHcD"
      }
    },
    {
      "cell_type": "markdown",
      "source": [
        "<b>III. CNN MODEL</b>\n",
        "\n",
        "The following is a CNN model with the following architecture:\n",
        "1. Convolution Layer 1\n",
        "2. ReLU + Max Pooling Layer 1\n",
        "3. Flattening\n",
        "4. Fully Connected Layer 1 with No Activation\n",
        "\n",
        "\n",
        "\n",
        "```\n",
        "class SimpleCNN(nn.Module):\n",
        "    def __init__(self):\n",
        "        super(SimpleCNN, self).__init__()\n",
        "        # Convolution Layer\n",
        "        self.conv1 = nn.Conv2d(1, 32, kernel_size=3)    # LINE 1\n",
        "\n",
        "        # Max Pooling Layer\n",
        "        self.pool = nn.MaxPool2d(2, 2)                  # LINE 2\n",
        "\n",
        "        # Fully Connected Layer; Output of 10 classes\n",
        "        self.fc = nn.Linear(32 * 13 * 13, 10)           # LINE 3\n",
        "\n",
        "\n",
        "    def forward(self, x):\n",
        "        # 1 Conv + ReLU + Pool layer\n",
        "        x = self.pool(torch.relu(self.conv1(x)))        # LINE 4\n",
        "\n",
        "        # Flatten for the FC layer\n",
        "        x = x.view(-1, self.num_flat_features(x))       # LINE 5\n",
        "\n",
        "        # Fully Connected Layer with no activation\n",
        "        x = self.fc(x)                                  # LINE 6\n",
        "\n",
        "        # Output\n",
        "        return x\n",
        "\n",
        "\n",
        "    def num_flat_features(self, x):\n",
        "        size = x.size()[1:]  \n",
        "        num_features = 1\n",
        "        for s in size:\n",
        "            num_features *= s\n",
        "        return num_features\n",
        "```\n",
        "\n"
      ],
      "metadata": {
        "id": "2zCe3ObpzKJz"
      }
    },
    {
      "cell_type": "markdown",
      "source": [
        "\n",
        "\n",
        "---\n",
        "\n",
        "<br>\n",
        "\n",
        "In the above code, we define a simple CNN, named \"SimpleCNN\"\n",
        "\n",
        "<br><u>We define the following terms</u>\n",
        "<br>a. Kernel Size:\n",
        "- The dimension of the kernel matrix\n",
        "- In LINE 1, Kernel Size is 3\n",
        "- In LINE 2, Kernel Size is 2\n",
        "<br>\n",
        "\n",
        "b. Channel Depth:\n",
        "- The number of channels/filters applied in the convolution layer\n",
        "- There are both input and output channels\n",
        "- In LINE 1, there are 32 output channels\n",
        "<br>\n",
        "\n",
        "c. Stride:\n",
        "- The number of pixels by which the kernel slides over the input at each step\n",
        "- In LINE 2, Stride is 2\n",
        "<br>\n",
        "\n",
        "d. Spatial Dimensions:\n",
        "- The dimensions of the feature map\n",
        "- In LINE 3, Spatial Dimension is 13x13\n",
        "\n",
        "\n",
        "---\n",
        "\n"
      ],
      "metadata": {
        "id": "9xcCuPT7pZLx"
      }
    },
    {
      "cell_type": "markdown",
      "source": [
        "**Computing Spatial Dimensions**\n",
        "\n",
        "In LINE 3, we compute spatial dimension as 13x13 based on the output size of feature map after applying convolution and max-pooling operaions.\n",
        "\n",
        "The input images of Fashion MNIST are of dimension 28x28\n",
        "\n",
        "a. LINE 1: Convolutional Layer\n",
        "- Input size = 28x28\n",
        "- kernel size = 3x3\n",
        "- Output size = (28 - 3 + 1) = 26\n",
        "- Thus, output dimension is 26x26 with 32 channels\n",
        "<br><br>\n",
        "\n",
        "b. LINE 2: Max Pooling Layer\n",
        "- Input size = 26x26\n",
        "- Kernel Size = 2x2\n",
        "- Stride = 2\n",
        "- Output Size = 26/2 = 13\n",
        "- Thus, output dimension is 13x13 with 32 channels\n",
        "\n",
        "<br>\n",
        "\n",
        "--> After Convolution and max-pooling, the feature map dimensions are 32 x 13 x 13\n",
        "<br>\n",
        "--> There are 32 x 13 x 13 features which should be input of the fully connected layer\n",
        "<br>\n",
        "\n",
        "---\n",
        "\n"
      ],
      "metadata": {
        "id": "4-f-vj_qxdDW"
      }
    },
    {
      "cell_type": "markdown",
      "source": [
        "**Implement a CNN Model as described below** (35 POINTS)"
      ],
      "metadata": {
        "id": "kjXumyN15Q8y"
      }
    },
    {
      "cell_type": "markdown",
      "source": [
        "\n",
        "\n",
        "a. Define the CNN Model using the following architecture: (10 points)\n",
        "1. Convolution Layer 1\n",
        "2. ReLU + Max Pooling Layer 1\n",
        "3. Convolution Layer 2\n",
        "4. ReLU + Max Pooling Layer 2\n",
        "5. Flattening\n",
        "6. Fully Connected Layer 1 + ReLU Activation\n",
        "7. Dropout Layer\n",
        "8. Fully Connected Layer 2"
      ],
      "metadata": {
        "id": "6C6v3YAOl1FI"
      }
    },
    {
      "cell_type": "code",
      "source": [
        "# Define the CNN model\n",
        "class CNN(nn.Module):\n",
        "    def __init__(self):\n",
        "        super(CNN, self).__init__()\n",
        "        # add layers to CNN model\n",
        "        ##### ---------- INSERT YOUR CODE HERE ---------- #####\n",
        "\n",
        "        # First convolution layer\n",
        "        self.conv1 = nn.Conv2d(1, 32, kernel_size=3)\n",
        "\n",
        "        # First Max Pooling Layer\n",
        "        self.pool = nn.MaxPool2d(2, 2)\n",
        "\n",
        "        # Second convolution layer\n",
        "        self.conv2 = nn.Conv2d(32, 64, kernel_size=3)\n",
        "\n",
        "        # Second Max Pooling Layer\n",
        "        self.pool2 = nn.MaxPool2d(2, 2)\n",
        "\n",
        "        # Fully connected layer 1\n",
        "        self.fc1 = nn.Linear(64 * 5 * 5, 128)\n",
        "\n",
        "        # Dropout layer\n",
        "        self.dropout = nn.Dropout(0.5)\n",
        "\n",
        "        # Second connected layer 2\n",
        "        self.fc2 = nn.Linear(128, 10)\n",
        "\n",
        "        ##### ---------- END CODE HERE ---------- #####\n",
        "\n",
        "\n",
        "\n",
        "    def forward(self, x):\n",
        "        # construct CNN model\n",
        "        ##### ---------- INSERT YOUR CODE HERE ---------- #####\n",
        "\n",
        "        x = self.pool(torch.relu(self.conv1(x)))\n",
        "\n",
        "        x = self.pool2(torch.relu(self.conv2(x)))\n",
        "\n",
        "        x = x.view(-1, self.num_flat_features(x))\n",
        "\n",
        "        x = torch.relu(self.fc1(x))\n",
        "\n",
        "        x = self.dropout(x)\n",
        "\n",
        "        x = self.fc2(x)\n",
        "\n",
        "\n",
        "\n",
        "\n",
        "        ##### ---------- END CODE HERE ---------- #####\n",
        "\n",
        "        return x\n",
        "\n",
        "\n",
        "    def num_flat_features(self, x):\n",
        "        size = x.size()[1:]\n",
        "        num_features = 1\n",
        "        for s in size:\n",
        "            num_features *= s\n",
        "        return num_features"
      ],
      "metadata": {
        "id": "jBNBZYTCzJmN"
      },
      "execution_count": null,
      "outputs": []
    },
    {
      "cell_type": "markdown",
      "source": [
        "**CHECKPOINT 1.2**\n",
        "<br>Print the Model Summary"
      ],
      "metadata": {
        "id": "o7f-_asR711u"
      }
    },
    {
      "cell_type": "code",
      "source": [
        "print(\"CHECKPOINT 1.2\\n\")\n",
        "model = CNN()\n",
        "if torch.cuda.is_available():\n",
        "    model.to('cuda')\n",
        "summary(model, (1, 28, 28))"
      ],
      "metadata": {
        "id": "PklA17bv71TC",
        "colab": {
          "base_uri": "https://localhost:8080/"
        },
        "outputId": "f081265a-0f16-4018-be02-982aea1885dc"
      },
      "execution_count": null,
      "outputs": [
        {
          "output_type": "stream",
          "name": "stdout",
          "text": [
            "CHECKPOINT 1.2\n",
            "\n",
            "----------------------------------------------------------------\n",
            "        Layer (type)               Output Shape         Param #\n",
            "================================================================\n",
            "            Conv2d-1           [-1, 32, 26, 26]             320\n",
            "         MaxPool2d-2           [-1, 32, 13, 13]               0\n",
            "            Conv2d-3           [-1, 64, 11, 11]          18,496\n",
            "         MaxPool2d-4             [-1, 64, 5, 5]               0\n",
            "            Linear-5                  [-1, 128]         204,928\n",
            "           Dropout-6                  [-1, 128]               0\n",
            "            Linear-7                   [-1, 10]           1,290\n",
            "================================================================\n",
            "Total params: 225,034\n",
            "Trainable params: 225,034\n",
            "Non-trainable params: 0\n",
            "----------------------------------------------------------------\n",
            "Input size (MB): 0.00\n",
            "Forward/backward pass size (MB): 0.28\n",
            "Params size (MB): 0.86\n",
            "Estimated Total Size (MB): 1.14\n",
            "----------------------------------------------------------------\n"
          ]
        }
      ]
    },
    {
      "cell_type": "markdown",
      "source": [
        "\n",
        "---\n",
        "<br>\n",
        "\n",
        "b. Define the method \"validate_model\" to evaluate the performance of the model on given dataset (test/validation). Return the Validation Loss and Accuracy\n",
        "<br> (5 points)"
      ],
      "metadata": {
        "id": "4SX1TLsI00Tq"
      }
    },
    {
      "cell_type": "code",
      "source": [
        "def validate_model(model, dataLoader, lossCriterion):\n",
        "    # evaluate model on given data and loss criteria (function)\n",
        "    ##### ---------- INSERT YOUR CODE HERE ---------- #####\n",
        "\n",
        "    model.eval()\n",
        "    total_loss = 0\n",
        "    correct = 0\n",
        "    total = 0\n",
        "\n",
        "    with torch.no_grad():\n",
        "        for images, labels in dataLoader:\n",
        "            outputs = model(images)\n",
        "            loss = lossCriterion(outputs, labels)\n",
        "            total_loss += loss.item()\n",
        "            _, predicted = torch.max(outputs, 1)\n",
        "            correct += (predicted == labels).sum().item()\n",
        "            total += labels.size(0)\n",
        "\n",
        "    loss = total_loss / len(dataLoader)\n",
        "    accuracy = (correct / total) * 100\n",
        "\n",
        "    ##### ---------- END CODE HERE ---------- #####\n",
        "\n",
        "    return loss, accuracy"
      ],
      "metadata": {
        "id": "GC6U8jgq1M3y"
      },
      "execution_count": null,
      "outputs": []
    },
    {
      "cell_type": "markdown",
      "source": [
        "\n",
        "\n",
        "---\n",
        "<br>\n",
        "\n",
        "c. Define the method \"plot_graphs\" to help plot graphs for any metric (Loss, Accuracy) for Train and Validation sets\n",
        "<br>(5 points)"
      ],
      "metadata": {
        "id": "YhP3SduT1PZn"
      }
    },
    {
      "cell_type": "code",
      "source": [
        "# plot graphs\n",
        "def plot_graphs(train_data, val_data, title, xlabel, ylabel):\n",
        "    ##### ---------- INSERT YOUR CODE HERE ---------- #####\n",
        "    plt.figure(figsize=(10, 5))\n",
        "    plt.plot(train_data, label='Train')\n",
        "    plt.plot(val_data, label='Validation')\n",
        "    plt.title(title)\n",
        "    plt.xlabel(xlabel)\n",
        "    plt.ylabel(ylabel)\n",
        "    plt.legend()\n",
        "    plt.grid(True)\n",
        "    plt.show()\n",
        "\n",
        "\n",
        "\n",
        "\n",
        "    ##### ---------- END CODE HERE ---------- #####"
      ],
      "metadata": {
        "id": "bySNUwmB1c4A"
      },
      "execution_count": null,
      "outputs": []
    },
    {
      "cell_type": "markdown",
      "source": [
        "**CHECKPOINT 1.3**\n",
        "<br>Test Plot-Graphs Method"
      ],
      "metadata": {
        "id": "ztJR7avv_sUE"
      }
    },
    {
      "cell_type": "code",
      "source": [
        "import numpy as np\n",
        "np.random.seed(42)\n",
        "\n",
        "epochs = 20\n",
        "# Simulate decreasing train loss\n",
        "train_loss = np.linspace(1, 0.5, epochs) + np.random.normal(0, 0.1, epochs)\n",
        "# Simulate decreasing val loss\n",
        "val_loss = np.linspace(1.2, 0.6, epochs) + np.random.normal(0, 0.1, epochs)\n",
        "\n",
        "print(\"CHECKPOINT 1.3\\n\")\n",
        "# Test the plot_graphs function for loss\n",
        "plot_graphs(train_loss, val_loss, \"Training vs Validation Loss\", \"Epochs\", \"Loss\")"
      ],
      "metadata": {
        "id": "BmaFY9oX_uX5",
        "colab": {
          "base_uri": "https://localhost:8080/",
          "height": 523
        },
        "outputId": "c40dd925-d452-4a8d-cee6-4338951e2164"
      },
      "execution_count": null,
      "outputs": [
        {
          "output_type": "stream",
          "name": "stdout",
          "text": [
            "CHECKPOINT 1.3\n",
            "\n"
          ]
        },
        {
          "output_type": "display_data",
          "data": {
            "text/plain": [
              "<Figure size 1000x500 with 1 Axes>"
            ],
            "image/png": "[encoded data removed]"
          },
          "metadata": {}
        }
      ]
    },
    {
      "cell_type": "markdown",
      "source": [
        "\n",
        "\n",
        "---\n",
        "\n",
        "<br>\n",
        "\n",
        "d. We define the method \"train_model\" to train the CNN model on the Train Set\n",
        "\n",
        "For training we,\n",
        "- Use Cross Entropy Loss\n",
        "- Use Adam Optimizer\n",
        "- Train the model for 10 epochs with a learning rate of 0.001\n",
        "\n",
        "<br>Implement the following:\n",
        "- Compute the training accuracy and training loss\n",
        "- Compute the validation accuracy and validation loss\n",
        "- Report the above metrics for each epoch\n",
        "- Plot the Train vs. Validation Curves for Accuracy and Loss\n",
        "\n",
        "<br>(10 points)"
      ],
      "metadata": {
        "id": "JfK5G9W21eRp"
      }
    },
    {
      "cell_type": "code",
      "source": [
        "# Train and evaluate the model\n",
        "def train_model():\n",
        "    model = CNN()\n",
        "    criterion = nn.CrossEntropyLoss()\n",
        "    optimizer = optim.Adam(model.parameters(), lr=1e-3)\n",
        "\n",
        "    best_val_loss = float('inf')\n",
        "    epochs = 10\n",
        "    train_losses, val_losses, train_accs, val_accs = [], [], [], []\n",
        "\n",
        "    for epoch in range(epochs):\n",
        "        model.train()\n",
        "        running_loss, correct_preds, total = 0.0, 0, 0\n",
        "        for images, labels in train_loader:\n",
        "            optimizer.zero_grad()\n",
        "            outputs = model(images)\n",
        "            loss = criterion(outputs, labels)\n",
        "            loss.backward()\n",
        "            optimizer.step()\n",
        "            running_loss += loss.item()\n",
        "            _, preds = torch.max(outputs, 1)\n",
        "            correct_preds += (preds == labels).sum().item()\n",
        "            total += labels.size(0)\n",
        "\n",
        "\n",
        "\n",
        "        #### -------- IMPLEMENT THE FOLLOWING  -------- ####\n",
        "\n",
        "        # 1. Compute training accuracy\n",
        "        train_acc = (correct_preds / total) * 100\n",
        "\n",
        "\n",
        "        # 2. Compute training loss\n",
        "        train_loss = (running_loss / len(train_loader))\n",
        "\n",
        "\n",
        "        # 3. Compute validation loss and accuracy using method defined in part b\n",
        "        # Use val_loader for input data\n",
        "        val_loss, val_acc = validate_model(model, val_loader, criterion)\n",
        "\n",
        "\n",
        "        # Save the metrics for plotting accuracy and loss curves\n",
        "        train_losses.append(train_loss)\n",
        "        val_losses.append(val_loss)\n",
        "        train_accs.append(train_acc)\n",
        "        val_accs.append(val_acc)\n",
        "\n",
        "\n",
        "        # 4. Report metrics for each epoch\n",
        "        print(\"Metrics\")\n",
        "        ##### ---------- INSERT YOUR CODE HERE ---------- #####\n",
        "        print(f\"Epoch {epoch+1}/{epochs}: Train Loss: {train_loss:.4f}, Train Acc: {train_acc:.2f}%, \"\n",
        "              f\"Val Loss: {val_loss:.4f}, Val Acc: {val_acc:.2f}%\")\n",
        "\n",
        "        ##### ---------- END CODE HERE ---------- #####\n",
        "\n",
        "\n",
        "        # Save the model if it has the best validation loss\n",
        "        if val_loss < best_val_loss:\n",
        "            best_val_loss = val_loss\n",
        "            torch.save(model.state_dict(), \"best_fashion_mnist_model.pth\")\n",
        "\n",
        "\n",
        "    # 5. Plot accuracy and loss curves using method defined in part c\n",
        "    ##### ---------- INSERT YOUR CODE HERE ---------- #####\n",
        "    plot_graphs(train_losses, val_losses, \"Training vs Validation Loss\", \"Epochs\", \"Loss\")\n",
        "    plot_graphs(train_accs, val_accs, \"Training vs Validation Accuracy\", \"Epochs\", \"Accuracy\")\n",
        "\n",
        "    ##### ---------- END CODE HERE ---------- #####"
      ],
      "metadata": {
        "id": "uXs5YWmw1jvI"
      },
      "execution_count": null,
      "outputs": []
    },
    {
      "cell_type": "markdown",
      "source": [
        "**CHECKPOINT 1.4**\n",
        "<br>\n",
        "e. Train the Model"
      ],
      "metadata": {
        "id": "QEiAR0ag3VJ0"
      }
    },
    {
      "cell_type": "code",
      "source": [
        "print(\"CHECKPOINT 1.4\\n\")\n",
        "train_model()"
      ],
      "metadata": {
        "id": "8UN8Lcqt3XFp",
        "colab": {
          "base_uri": "https://localhost:8080/",
          "height": 1000
        },
        "outputId": "a199341e-d755-43ad-dbc6-26b8cd00a047"
      },
      "execution_count": null,
      "outputs": [
        {
          "output_type": "stream",
          "name": "stdout",
          "text": [
            "CHECKPOINT 1.4\n",
            "\n",
            "Metrics\n",
            "Epoch 1/10: Train Loss: 0.6286, Train Acc: 76.80%, Val Loss: 0.3986, Val Acc: 85.58%\n",
            "Metrics\n",
            "Epoch 2/10: Train Loss: 0.4299, Train Acc: 84.43%, Val Loss: 0.3466, Val Acc: 87.17%\n",
            "Metrics\n",
            "Epoch 3/10: Train Loss: 0.3676, Train Acc: 86.71%, Val Loss: 0.2879, Val Acc: 89.16%\n",
            "Metrics\n",
            "Epoch 4/10: Train Loss: 0.3310, Train Acc: 88.18%, Val Loss: 0.2719, Val Acc: 90.06%\n",
            "Metrics\n",
            "Epoch 5/10: Train Loss: 0.3041, Train Acc: 89.10%, Val Loss: 0.2569, Val Acc: 90.25%\n",
            "Metrics\n",
            "Epoch 6/10: Train Loss: 0.2846, Train Acc: 89.52%, Val Loss: 0.2467, Val Acc: 90.95%\n",
            "Metrics\n",
            "Epoch 7/10: Train Loss: 0.2666, Train Acc: 90.41%, Val Loss: 0.2522, Val Acc: 90.72%\n",
            "Metrics\n",
            "Epoch 8/10: Train Loss: 0.2520, Train Acc: 90.81%, Val Loss: 0.2359, Val Acc: 91.22%\n",
            "Metrics\n",
            "Epoch 9/10: Train Loss: 0.2372, Train Acc: 91.28%, Val Loss: 0.2414, Val Acc: 91.00%\n",
            "Metrics\n",
            "Epoch 10/10: Train Loss: 0.2250, Train Acc: 91.61%, Val Loss: 0.2375, Val Acc: 91.37%\n"
          ]
        },
        {
          "output_type": "display_data",
          "data": {
            "text/plain": [
              "<Figure size 1000x500 with 1 Axes>"
            ],
            "image/png": "[encoded data removed]"
          },
          "metadata": {}
        },
        {
          "output_type": "display_data",
          "data": {
            "text/plain": [
              "<Figure size 1000x500 with 1 Axes>"
            ],
            "image/png": "[encoded data removed]"
          },
          "metadata": {}
        }
      ]
    },
    {
      "cell_type": "markdown",
      "source": [
        "\n",
        "\n",
        "---\n",
        "\n",
        "<br>\n",
        "\n",
        "f. Define the method \"test_model\" to test the trained CNN model on the test set using the saved model.\n",
        "\n",
        "We report the Test Loss and Accuracy"
      ],
      "metadata": {
        "id": "Ml5V5Ad32yCD"
      }
    },
    {
      "cell_type": "code",
      "source": [
        "# test the best model\n",
        "def test_model():\n",
        "    model = CNN()\n",
        "    model.load_state_dict(torch.load(\"best_fashion_mnist_model.pth\"))\n",
        "\n",
        "    test_loss, test_acc = validate_model(model, test_loader, nn.CrossEntropyLoss())\n",
        "    print(f\"\\nTest Loss: {test_loss:.4f}\\nTest Accuracy: {test_acc:.4f}\")"
      ],
      "metadata": {
        "id": "PSf04b6Y3Pfo"
      },
      "execution_count": null,
      "outputs": []
    },
    {
      "cell_type": "markdown",
      "source": [
        "**CHECKPOINT 1.5**\n",
        "<br>\n",
        "g. Test Model (5 points)\n",
        "<br>You should get a test accuracy of at least 90% to receive full credit"
      ],
      "metadata": {
        "id": "f0E9ZYwD3YiE"
      }
    },
    {
      "cell_type": "code",
      "source": [
        "print(\"CHECKPOINT 1.5\\n\")\n",
        "test_model()"
      ],
      "metadata": {
        "id": "qnNUq2U33bMi",
        "colab": {
          "base_uri": "https://localhost:8080/"
        },
        "outputId": "886ff15c-2175-4751-be12-6810368b877e"
      },
      "execution_count": null,
      "outputs": [
        {
          "output_type": "stream",
          "name": "stdout",
          "text": [
            "CHECKPOINT 1.5\n",
            "\n"
          ]
        },
        {
          "output_type": "stream",
          "name": "stderr",
          "text": [
            "<ipython-input-14-cef42319e9f1>:4: FutureWarning: You are using `torch.load` with `weights_only=False` (the current default value), which uses the default pickle module implicitly. It is possible to construct malicious pickle data which will execute arbitrary code during unpickling (See https://github.com/pytorch/pytorch/blob/main/SECURITY.md#untrusted-models for more details). In a future release, the default value for `weights_only` will be flipped to `True`. This limits the functions that could be executed during unpickling. Arbitrary objects will no longer be allowed to be loaded via this mode unless they are explicitly allowlisted by the user via `torch.serialization.add_safe_globals`. We recommend you start setting `weights_only=True` for any use case where you don't have full control of the loaded file. Please open an issue on GitHub for any issues related to this experimental feature.\n",
            "  model.load_state_dict(torch.load(\"best_fashion_mnist_model.pth\"))\n"
          ]
        },
        {
          "output_type": "stream",
          "name": "stdout",
          "text": [
            "\n",
            "Test Loss: 0.2560\n",
            "Test Accuracy: 90.6600\n"
          ]
        }
      ]
    },
    {
      "cell_type": "markdown",
      "source": [
        "\n",
        "\n",
        "---\n",
        "\n",
        "\n",
        "\n",
        "---\n",
        "\n"
      ],
      "metadata": {
        "id": "--b8Bcgd3fwW"
      }
    },
    {
      "cell_type": "markdown",
      "source": [
        "<h2><b>SECTION 2: HYPERPARAMETER TUNING</b></h2>\n",
        "<h4>[50/100 POINTS]</h4>\n",
        "\n",
        "\n",
        "---\n",
        "\n",
        "\n"
      ],
      "metadata": {
        "id": "Alk9oqTYC8WT"
      }
    },
    {
      "cell_type": "markdown",
      "source": [
        "Hyperparameter tuning is used to optimize the external settings of a machine learning model to control how it learns. This is achieved by testing different combinations of the hyperparameters to improve model performance.\n",
        "\n",
        "There are several techniques and libraries available that can help us do this but we will use manual methods for the purpose of learning."
      ],
      "metadata": {
        "id": "GnFax0-D4EvV"
      }
    },
    {
      "cell_type": "markdown",
      "source": [
        "<u>Some hyperparameters you can tune</u>\n",
        "1. Learning Rate\n",
        "2. Dropout Rate\n",
        "3. Batch Size\n",
        "4. No. of input and output channels in convolution layers\n",
        "5. Kernel Size\n",
        "6. No. of neurons in Fully Connected Layer\n",
        "7. No. of convolution layers\n",
        "8. Activation functions\n",
        "9. Optimizer type\n",
        "10. Regularization Techniques\n",
        "\n",
        "\n",
        "\n",
        "---\n",
        "\n"
      ],
      "metadata": {
        "id": "lvEjNfHm4ikl"
      }
    },
    {
      "cell_type": "markdown",
      "source": [
        "**NOTE**\n",
        "<br>If you are able to show improved model performance, you will receive an extra credit of 5 points\n",
        "<br>This applies for all excercises in Section 2\n",
        "\n",
        "\n",
        "---\n",
        "\n"
      ],
      "metadata": {
        "id": "XjZj6o9lY0hr"
      }
    },
    {
      "cell_type": "markdown",
      "source": [
        "<b>I. Modify Architecture - I</b> (25 points)\n",
        "\n",
        "Train the model on different combinations for the following:\n",
        "1. No. of input and output channels in convolution layers\n",
        "2. Kernel Size\n",
        "3. No. of neurons in fully connected layer\n",
        "4. Dropout Rate\n",
        "5. Learning Rate\n",
        "\n",
        "<br>Note:\n",
        "- Implement at least 6 different configurations but not more than 10\n",
        "- Retain the CNN architecture from Section 1 Part III\n",
        "\n"
      ],
      "metadata": {
        "id": "Zi2G1Oxr6Drr"
      }
    },
    {
      "cell_type": "markdown",
      "source": [
        "\n",
        "\n",
        "---\n",
        "\n",
        "\n",
        "Instead of defining multiple CNN models with different hyperparameters, we can do this using reuse of code.\n",
        "We define a list of configurations with different combinations of hyperparameters.\n",
        "<br>\n",
        "\n",
        "The below is a sample configuration.\n",
        "Apart from the one given below, add to the list to have at least 6 configurations."
      ],
      "metadata": {
        "id": "54AMDwv_9KgW"
      }
    },
    {
      "cell_type": "code",
      "source": [
        "configs = [\n",
        "    { \"conv1_out_channels\": 32, \"conv1_kernel\": 3, \"conv2_out_channels\": 64, \"conv2_kernel\": 3, \"fc_units\": 64, \"dropout\": 0.5, \"lr\": 1e-3},\n",
        "    {\"conv1_out_channels\": 64, \"conv1_kernel\": 3, \"conv2_out_channels\": 128, \"conv2_kernel\": 3, \"fc_units\": 128, \"dropout\": 0.4, \"lr\": 1e-3},\n",
        "    {\"conv1_out_channels\": 16, \"conv1_kernel\": 5, \"conv2_out_channels\": 32, \"conv2_kernel\": 5, \"fc_units\": 64, \"dropout\": 0.3, \"lr\": 5e-3},\n",
        "    {\"conv1_out_channels\": 32, \"conv1_kernel\": 3, \"conv2_out_channels\": 64, \"conv2_kernel\": 3, \"fc_units\": 256, \"dropout\": 0.5, \"lr\": 5e-4},\n",
        "    {\"conv1_out_channels\": 32, \"conv1_kernel\": 3, \"conv2_out_channels\": 64, \"conv2_kernel\": 3, \"fc_units\": 32, \"dropout\": 0.2, \"lr\": 1e-3},\n",
        "    {\"conv1_out_channels\": 128, \"conv1_kernel\": 3, \"conv2_out_channels\": 256, \"conv2_kernel\": 3, \"fc_units\": 128, \"dropout\": 0.0, \"lr\": 1e-4},\n",
        "    {\"conv1_out_channels\": 16, \"conv1_kernel\": 3, \"conv2_out_channels\": 32, \"conv2_kernel\": 3, \"fc_units\": 32, \"dropout\": 0.6, \"lr\": 1e-3},\n",
        "]"
      ],
      "metadata": {
        "id": "vkPA7zSMGN3N"
      },
      "execution_count": null,
      "outputs": []
    },
    {
      "cell_type": "markdown",
      "source": [
        "\n",
        "\n",
        "---\n",
        "\n",
        "\n",
        "We can now instantiate a CNN model for each configuration which is passed as a parameter 'config' seen in LINE 1 below"
      ],
      "metadata": {
        "id": "xUehz36TGlQt"
      }
    },
    {
      "cell_type": "markdown",
      "source": [
        "a) Modify the CNN Model (5 points)"
      ],
      "metadata": {
        "id": "-jHdpvonGKX3"
      }
    },
    {
      "cell_type": "code",
      "source": [
        "# Modified CNN with hyperparameter arguments for tuning\n",
        "class CNNHyperTune(nn.Module):\n",
        "    def __init__(self, config):    # LINE 1\n",
        "        super(CNNHyperTune, self).__init__()\n",
        "\n",
        "        # add layers to CNN model\n",
        "        ##### ---------- INSERT YOUR CODE HERE ---------- #####\n",
        "\n",
        "        self.conv1 = nn.Conv2d(1, config['conv1_out_channels'], kernel_size=config['conv1_kernel'])\n",
        "        self.conv2 = nn.Conv2d(config['conv1_out_channels'], config['conv2_out_channels'], kernel_size=config['conv2_kernel'])\n",
        "\n",
        "        self.pool = nn.MaxPool2d(2, 2)\n",
        "\n",
        "        # Spatial Dimension Computation for Input to Fully Connected Layer 1\n",
        "        dummy_input = torch.zeros(1, 1, 28, 28)\n",
        "        self.flattened_size = self._get_flattened_size(dummy_input)\n",
        "        # Use \"self.flattened_size\" as input to fc1\n",
        "\n",
        "        self.fc1 = nn.Linear(self.flattened_size, config['fc_units'])\n",
        "        self.fc2 = nn.Linear(config['fc_units'], 10)\n",
        "\n",
        "        self.dropout = nn.Dropout(config['dropout'])\n",
        "\n",
        "        ##### ---------- END CODE HERE ---------- #####\n",
        "\n",
        "\n",
        "\n",
        "    def forward(self, x):\n",
        "        # construct CNN model\n",
        "        ##### ---------- INSERT YOUR CODE HERE ---------- #####\n",
        "        x = torch.relu(self.conv1(x))\n",
        "        x = self.pool(x)\n",
        "\n",
        "        x = torch.relu(self.conv2(x))\n",
        "        x = self.pool(x)\n",
        "\n",
        "        x = x.view(-1, self.flattened_size)\n",
        "\n",
        "        x = torch.relu(self.fc1(x))\n",
        "\n",
        "        x = self.dropout(x)\n",
        "\n",
        "        x = self.fc2(x)\n",
        "\n",
        "\n",
        "\n",
        "        ##### ---------- END CODE HERE ---------- #####\n",
        "\n",
        "\n",
        "        return x\n",
        "\n",
        "    def _get_flattened_size(self, x):\n",
        "        x = self.pool(torch.relu(self.conv1(x)))\n",
        "        x = self.pool(torch.relu(self.conv2(x)))\n",
        "        return x.numel()\n"
      ],
      "metadata": {
        "id": "fpXsomOz3exZ"
      },
      "execution_count": null,
      "outputs": []
    },
    {
      "cell_type": "markdown",
      "source": [
        "**CHECKPOINT 2.1**\n",
        "<br>Print Model Summary of Given Configuration"
      ],
      "metadata": {
        "id": "tgzMxGnuJLcl"
      }
    },
    {
      "cell_type": "code",
      "source": [
        "print(\"CHECKPOINT 2.1\\n\")\n",
        "model = CNNHyperTune(configs[0])\n",
        "if torch.cuda.is_available():\n",
        "    model.to('cuda')\n",
        "summary(model, (1, 28, 28))"
      ],
      "metadata": {
        "id": "2oNoK8YnJNCL",
        "colab": {
          "base_uri": "https://localhost:8080/"
        },
        "outputId": "eab1d977-6b59-40b6-a270-1b79d37c6078"
      },
      "execution_count": null,
      "outputs": [
        {
          "output_type": "stream",
          "name": "stdout",
          "text": [
            "CHECKPOINT 2.1\n",
            "\n",
            "----------------------------------------------------------------\n",
            "        Layer (type)               Output Shape         Param #\n",
            "================================================================\n",
            "            Conv2d-1           [-1, 32, 26, 26]             320\n",
            "         MaxPool2d-2           [-1, 32, 13, 13]               0\n",
            "            Conv2d-3           [-1, 64, 11, 11]          18,496\n",
            "         MaxPool2d-4             [-1, 64, 5, 5]               0\n",
            "            Linear-5                   [-1, 64]         102,464\n",
            "           Dropout-6                   [-1, 64]               0\n",
            "            Linear-7                   [-1, 10]             650\n",
            "================================================================\n",
            "Total params: 121,930\n",
            "Trainable params: 121,930\n",
            "Non-trainable params: 0\n",
            "----------------------------------------------------------------\n",
            "Input size (MB): 0.00\n",
            "Forward/backward pass size (MB): 0.28\n",
            "Params size (MB): 0.47\n",
            "Estimated Total Size (MB): 0.75\n",
            "----------------------------------------------------------------\n"
          ]
        }
      ]
    },
    {
      "cell_type": "markdown",
      "source": [
        "\n",
        "\n",
        "---\n",
        "\n",
        "\n",
        "\n",
        "\n",
        "b) Define the method to train the new CNN Model (5 points)\n",
        "\n",
        "- Report the Loss and Accuracy for the train and validation sets for each epoch"
      ],
      "metadata": {
        "id": "IR1GIUv19Rb5"
      }
    },
    {
      "cell_type": "code",
      "source": [
        "# Train the model and return the results\n",
        "# Use training function from Section 1 as reference\n",
        "def train_hyperTune_model(model, criterion, optimizer, epochs=10):\n",
        "\n",
        "    ##### ---------- INSERT YOUR CODE HERE ---------- #####\n",
        "    train_losses, val_losses, train_accs, val_accs = [], [], [], []\n",
        "\n",
        "    # Loop over the number of epochs\n",
        "    for epoch in range(epochs):\n",
        "        model.train()\n",
        "        running_loss, correct_preds, total = 0.0, 0, 0\n",
        "\n",
        "        # Training loop\n",
        "        for images, labels in train_loader:\n",
        "            optimizer.zero_grad()\n",
        "            outputs = model(images)\n",
        "            loss = criterion(outputs, labels)\n",
        "            loss.backward()\n",
        "            optimizer.step()\n",
        "\n",
        "            running_loss += loss.item()\n",
        "            _, preds = torch.max(outputs, 1)\n",
        "            correct_preds += (preds == labels).sum().item()\n",
        "            total += labels.size(0)\n",
        "\n",
        "        train_loss = running_loss / len(train_loader)\n",
        "        train_acc = (correct_preds / total) * 100\n",
        "\n",
        "        val_loss, val_acc = validate_model(model, val_loader, criterion)\n",
        "\n",
        "        train_losses.append(train_loss)\n",
        "        val_losses.append(val_loss)\n",
        "        train_accs.append(train_acc)\n",
        "        val_accs.append(val_acc)\n",
        "\n",
        "        # Print metrics for the current epoch\n",
        "        print(f\"Epoch [{epoch + 1}/{epochs}] - \"\n",
        "              f\"Train Loss: {train_loss:.4f}, Train Accuracy: {train_acc:.2f}% - \"\n",
        "              f\"Val Loss: {val_loss:.4f}, Val Accuracy: {val_acc:.2f}%\")\n",
        "\n",
        "\n",
        "\n",
        "\n",
        "    ##### ---------- END CODE HERE ---------- #####\n",
        "\n",
        "    return train_losses, val_losses, train_accs, val_accs"
      ],
      "metadata": {
        "id": "Npmp1q7A3euS"
      },
      "execution_count": null,
      "outputs": []
    },
    {
      "cell_type": "markdown",
      "source": [
        "\n",
        "\n",
        "---\n",
        "\n",
        "\n",
        "c) Define the method to perform Hyperparameter tuning (10 points)\n",
        "\n",
        "- Save the best hyperparamters\n",
        "- Save the model with the best hyperparameters"
      ],
      "metadata": {
        "id": "9YGuvVMy9nfH"
      }
    },
    {
      "cell_type": "code",
      "source": [
        "# Function to perform hyperparameter tuning\n",
        "def hyperparameter_tuning():\n",
        "\n",
        "    ##### ---------- INSERT YOUR CODE HERE ---------- #####\n",
        "\n",
        "    best_val_acc = 0\n",
        "    best_hyperparams = None\n",
        "    best_model = None\n",
        "\n",
        "    for config in configs:\n",
        "        print(f\"Training with configuration: {config}\")\n",
        "\n",
        "        model = CNNHyperTune(config)\n",
        "\n",
        "        criterion = nn.CrossEntropyLoss()\n",
        "        optimizer = optim.Adam(model.parameters(), lr=config['lr'])\n",
        "\n",
        "        train_losses, val_losses, train_accs, val_accs = train_hyperTune_model(model, criterion, optimizer, epochs=10)\n",
        "        final_val_acc = val_accs[-1]\n",
        "\n",
        "        if final_val_acc > best_val_acc:\n",
        "            best_val_acc = final_val_acc\n",
        "            best_hyperparams = config\n",
        "            best_model = model\n",
        "\n",
        "            torch.save(model.state_dict(), \"best_model_hyper_tune.pth\")\n",
        "\n",
        "        print(f\"Finished training with configuration: {config}\")\n",
        "        print(f\"Validation Accuracy: {final_val_acc:.2f}%\\n\")\n",
        "\n",
        "\n",
        "    ##### ---------- END CODE HERE ---------- #####\n",
        "\n",
        "    return best_hyperparams"
      ],
      "metadata": {
        "id": "psshM9l98r0u"
      },
      "execution_count": null,
      "outputs": []
    },
    {
      "cell_type": "markdown",
      "source": [
        "d) Perform Hyperparameter Tuning"
      ],
      "metadata": {
        "id": "R0jv8m9pDYUp"
      }
    },
    {
      "cell_type": "code",
      "source": [
        "best_hyper_params = hyperparameter_tuning()"
      ],
      "metadata": {
        "id": "fvJI-W7-DfRn",
        "colab": {
          "base_uri": "https://localhost:8080/"
        },
        "outputId": "6074878f-a569-4b00-9d66-b5f0ea40fe59"
      },
      "execution_count": null,
      "outputs": [
        {
          "output_type": "stream",
          "name": "stdout",
          "text": [
            "Training with configuration: {'conv1_out_channels': 32, 'conv1_kernel': 3, 'conv2_out_channels': 64, 'conv2_kernel': 3, 'fc_units': 64, 'dropout': 0.5, 'lr': 0.001}\n",
            "Epoch [1/10] - Train Loss: 0.7311, Train Accuracy: 73.17% - Val Loss: 0.4346, Val Accuracy: 83.86%\n",
            "Epoch [2/10] - Train Loss: 0.5213, Train Accuracy: 81.19% - Val Loss: 0.3625, Val Accuracy: 87.16%\n",
            "Epoch [3/10] - Train Loss: 0.4536, Train Accuracy: 83.54% - Val Loss: 0.3191, Val Accuracy: 88.65%\n",
            "Epoch [4/10] - Train Loss: 0.4130, Train Accuracy: 85.25% - Val Loss: 0.3124, Val Accuracy: 88.83%\n",
            "Epoch [5/10] - Train Loss: 0.3894, Train Accuracy: 86.01% - Val Loss: 0.2870, Val Accuracy: 89.56%\n",
            "Epoch [6/10] - Train Loss: 0.3624, Train Accuracy: 86.92% - Val Loss: 0.2904, Val Accuracy: 89.06%\n",
            "Epoch [7/10] - Train Loss: 0.3448, Train Accuracy: 87.62% - Val Loss: 0.2732, Val Accuracy: 89.83%\n",
            "Epoch [8/10] - Train Loss: 0.3280, Train Accuracy: 88.23% - Val Loss: 0.2593, Val Accuracy: 90.64%\n",
            "Epoch [9/10] - Train Loss: 0.3108, Train Accuracy: 88.64% - Val Loss: 0.2632, Val Accuracy: 90.32%\n",
            "Epoch [10/10] - Train Loss: 0.3040, Train Accuracy: 88.90% - Val Loss: 0.2563, Val Accuracy: 90.48%\n",
            "Finished training with configuration: {'conv1_out_channels': 32, 'conv1_kernel': 3, 'conv2_out_channels': 64, 'conv2_kernel': 3, 'fc_units': 64, 'dropout': 0.5, 'lr': 0.001}\n",
            "Validation Accuracy: 90.48%\n",
            "\n",
            "Training with configuration: {'conv1_out_channels': 64, 'conv1_kernel': 3, 'conv2_out_channels': 128, 'conv2_kernel': 3, 'fc_units': 128, 'dropout': 0.4, 'lr': 0.001}\n",
            "Epoch [1/10] - Train Loss: 0.5524, Train Accuracy: 79.95% - Val Loss: 0.3392, Val Accuracy: 87.38%\n",
            "Epoch [2/10] - Train Loss: 0.3641, Train Accuracy: 87.02% - Val Loss: 0.2885, Val Accuracy: 89.08%\n",
            "Epoch [3/10] - Train Loss: 0.3096, Train Accuracy: 88.88% - Val Loss: 0.2640, Val Accuracy: 90.28%\n",
            "Epoch [4/10] - Train Loss: 0.2744, Train Accuracy: 90.12% - Val Loss: 0.2523, Val Accuracy: 90.64%\n",
            "Epoch [5/10] - Train Loss: 0.2489, Train Accuracy: 90.91% - Val Loss: 0.2502, Val Accuracy: 90.88%\n",
            "Epoch [6/10] - Train Loss: 0.2256, Train Accuracy: 91.69% - Val Loss: 0.2414, Val Accuracy: 91.28%\n",
            "Epoch [7/10] - Train Loss: 0.2081, Train Accuracy: 92.38% - Val Loss: 0.2351, Val Accuracy: 91.42%\n",
            "Epoch [8/10] - Train Loss: 0.1917, Train Accuracy: 93.01% - Val Loss: 0.2448, Val Accuracy: 91.53%\n",
            "Epoch [9/10] - Train Loss: 0.1774, Train Accuracy: 93.31% - Val Loss: 0.2474, Val Accuracy: 91.45%\n",
            "Epoch [10/10] - Train Loss: 0.1624, Train Accuracy: 94.01% - Val Loss: 0.2336, Val Accuracy: 91.75%\n",
            "Finished training with configuration: {'conv1_out_channels': 64, 'conv1_kernel': 3, 'conv2_out_channels': 128, 'conv2_kernel': 3, 'fc_units': 128, 'dropout': 0.4, 'lr': 0.001}\n",
            "Validation Accuracy: 91.75%\n",
            "\n",
            "Training with configuration: {'conv1_out_channels': 16, 'conv1_kernel': 5, 'conv2_out_channels': 32, 'conv2_kernel': 5, 'fc_units': 64, 'dropout': 0.3, 'lr': 0.005}\n",
            "Epoch [1/10] - Train Loss: 0.5725, Train Accuracy: 79.19% - Val Loss: 0.3766, Val Accuracy: 86.08%\n",
            "Epoch [2/10] - Train Loss: 0.4123, Train Accuracy: 85.43% - Val Loss: 0.3484, Val Accuracy: 87.18%\n",
            "Epoch [3/10] - Train Loss: 0.3759, Train Accuracy: 86.45% - Val Loss: 0.3185, Val Accuracy: 88.67%\n",
            "Epoch [4/10] - Train Loss: 0.3570, Train Accuracy: 87.17% - Val Loss: 0.3222, Val Accuracy: 87.92%\n",
            "Epoch [5/10] - Train Loss: 0.3424, Train Accuracy: 87.53% - Val Loss: 0.3232, Val Accuracy: 88.63%\n",
            "Epoch [6/10] - Train Loss: 0.3280, Train Accuracy: 88.19% - Val Loss: 0.3347, Val Accuracy: 88.21%\n",
            "Epoch [7/10] - Train Loss: 0.3203, Train Accuracy: 88.28% - Val Loss: 0.3350, Val Accuracy: 87.99%\n",
            "Epoch [8/10] - Train Loss: 0.3093, Train Accuracy: 88.85% - Val Loss: 0.3085, Val Accuracy: 88.91%\n",
            "Epoch [9/10] - Train Loss: 0.3087, Train Accuracy: 88.79% - Val Loss: 0.3093, Val Accuracy: 89.45%\n",
            "Epoch [10/10] - Train Loss: 0.2989, Train Accuracy: 89.20% - Val Loss: 0.3087, Val Accuracy: 88.83%\n",
            "Finished training with configuration: {'conv1_out_channels': 16, 'conv1_kernel': 5, 'conv2_out_channels': 32, 'conv2_kernel': 5, 'fc_units': 64, 'dropout': 0.3, 'lr': 0.005}\n",
            "Validation Accuracy: 88.83%\n",
            "\n",
            "Training with configuration: {'conv1_out_channels': 32, 'conv1_kernel': 3, 'conv2_out_channels': 64, 'conv2_kernel': 3, 'fc_units': 256, 'dropout': 0.5, 'lr': 0.0005}\n",
            "Epoch [1/10] - Train Loss: 0.6288, Train Accuracy: 77.28% - Val Loss: 0.4141, Val Accuracy: 84.34%\n",
            "Epoch [2/10] - Train Loss: 0.4170, Train Accuracy: 84.97% - Val Loss: 0.3289, Val Accuracy: 87.77%\n",
            "Epoch [3/10] - Train Loss: 0.3610, Train Accuracy: 86.96% - Val Loss: 0.3023, Val Accuracy: 88.72%\n",
            "Epoch [4/10] - Train Loss: 0.3258, Train Accuracy: 88.16% - Val Loss: 0.2842, Val Accuracy: 89.10%\n",
            "Epoch [5/10] - Train Loss: 0.3000, Train Accuracy: 89.22% - Val Loss: 0.2724, Val Accuracy: 89.78%\n",
            "Epoch [6/10] - Train Loss: 0.2808, Train Accuracy: 89.91% - Val Loss: 0.2558, Val Accuracy: 90.56%\n",
            "Epoch [7/10] - Train Loss: 0.2626, Train Accuracy: 90.51% - Val Loss: 0.2529, Val Accuracy: 90.61%\n",
            "Epoch [8/10] - Train Loss: 0.2466, Train Accuracy: 91.04% - Val Loss: 0.2567, Val Accuracy: 90.42%\n",
            "Epoch [9/10] - Train Loss: 0.2303, Train Accuracy: 91.50% - Val Loss: 0.2481, Val Accuracy: 90.82%\n",
            "Epoch [10/10] - Train Loss: 0.2199, Train Accuracy: 91.89% - Val Loss: 0.2457, Val Accuracy: 91.04%\n",
            "Finished training with configuration: {'conv1_out_channels': 32, 'conv1_kernel': 3, 'conv2_out_channels': 64, 'conv2_kernel': 3, 'fc_units': 256, 'dropout': 0.5, 'lr': 0.0005}\n",
            "Validation Accuracy: 91.04%\n",
            "\n",
            "Training with configuration: {'conv1_out_channels': 32, 'conv1_kernel': 3, 'conv2_out_channels': 64, 'conv2_kernel': 3, 'fc_units': 32, 'dropout': 0.2, 'lr': 0.001}\n",
            "Epoch [1/10] - Train Loss: 0.6717, Train Accuracy: 75.59% - Val Loss: 0.4118, Val Accuracy: 84.45%\n",
            "Epoch [2/10] - Train Loss: 0.4446, Train Accuracy: 84.12% - Val Loss: 0.3596, Val Accuracy: 87.08%\n",
            "Epoch [3/10] - Train Loss: 0.3913, Train Accuracy: 86.06% - Val Loss: 0.3316, Val Accuracy: 87.83%\n",
            "Epoch [4/10] - Train Loss: 0.3594, Train Accuracy: 87.09% - Val Loss: 0.2926, Val Accuracy: 89.30%\n",
            "Epoch [5/10] - Train Loss: 0.3334, Train Accuracy: 88.22% - Val Loss: 0.2805, Val Accuracy: 89.80%\n",
            "Epoch [6/10] - Train Loss: 0.3116, Train Accuracy: 88.78% - Val Loss: 0.2815, Val Accuracy: 89.88%\n",
            "Epoch [7/10] - Train Loss: 0.2909, Train Accuracy: 89.55% - Val Loss: 0.2706, Val Accuracy: 89.95%\n",
            "Epoch [8/10] - Train Loss: 0.2772, Train Accuracy: 89.95% - Val Loss: 0.2641, Val Accuracy: 90.03%\n",
            "Epoch [9/10] - Train Loss: 0.2636, Train Accuracy: 90.31% - Val Loss: 0.2802, Val Accuracy: 89.71%\n",
            "Epoch [10/10] - Train Loss: 0.2517, Train Accuracy: 90.76% - Val Loss: 0.2543, Val Accuracy: 90.58%\n",
            "Finished training with configuration: {'conv1_out_channels': 32, 'conv1_kernel': 3, 'conv2_out_channels': 64, 'conv2_kernel': 3, 'fc_units': 32, 'dropout': 0.2, 'lr': 0.001}\n",
            "Validation Accuracy: 90.58%\n",
            "\n",
            "Training with configuration: {'conv1_out_channels': 128, 'conv1_kernel': 3, 'conv2_out_channels': 256, 'conv2_kernel': 3, 'fc_units': 128, 'dropout': 0.0, 'lr': 0.0001}\n",
            "Epoch [1/10] - Train Loss: 0.6221, Train Accuracy: 77.88% - Val Loss: 0.4519, Val Accuracy: 83.38%\n",
            "Epoch [2/10] - Train Loss: 0.4090, Train Accuracy: 85.26% - Val Loss: 0.3690, Val Accuracy: 86.58%\n",
            "Epoch [3/10] - Train Loss: 0.3556, Train Accuracy: 87.32% - Val Loss: 0.3407, Val Accuracy: 87.60%\n",
            "Epoch [4/10] - Train Loss: 0.3248, Train Accuracy: 88.53% - Val Loss: 0.3106, Val Accuracy: 88.65%\n",
            "Epoch [5/10] - Train Loss: 0.3046, Train Accuracy: 88.99% - Val Loss: 0.3118, Val Accuracy: 88.80%\n",
            "Epoch [6/10] - Train Loss: 0.2856, Train Accuracy: 89.71% - Val Loss: 0.2939, Val Accuracy: 89.12%\n",
            "Epoch [7/10] - Train Loss: 0.2707, Train Accuracy: 90.18% - Val Loss: 0.2784, Val Accuracy: 89.81%\n",
            "Epoch [8/10] - Train Loss: 0.2560, Train Accuracy: 90.57% - Val Loss: 0.2856, Val Accuracy: 89.44%\n",
            "Epoch [9/10] - Train Loss: 0.2401, Train Accuracy: 91.37% - Val Loss: 0.2619, Val Accuracy: 90.50%\n",
            "Epoch [10/10] - Train Loss: 0.2296, Train Accuracy: 91.60% - Val Loss: 0.2533, Val Accuracy: 90.72%\n",
            "Finished training with configuration: {'conv1_out_channels': 128, 'conv1_kernel': 3, 'conv2_out_channels': 256, 'conv2_kernel': 3, 'fc_units': 128, 'dropout': 0.0, 'lr': 0.0001}\n",
            "Validation Accuracy: 90.72%\n",
            "\n",
            "Training with configuration: {'conv1_out_channels': 16, 'conv1_kernel': 3, 'conv2_out_channels': 32, 'conv2_kernel': 3, 'fc_units': 32, 'dropout': 0.6, 'lr': 0.001}\n",
            "Epoch [1/10] - Train Loss: 1.1110, Train Accuracy: 56.44% - Val Loss: 0.5347, Val Accuracy: 79.61%\n",
            "Epoch [2/10] - Train Loss: 0.8585, Train Accuracy: 65.64% - Val Loss: 0.4762, Val Accuracy: 82.08%\n",
            "Epoch [3/10] - Train Loss: 0.7837, Train Accuracy: 68.95% - Val Loss: 0.4517, Val Accuracy: 82.83%\n",
            "Epoch [4/10] - Train Loss: 0.7585, Train Accuracy: 70.31% - Val Loss: 0.4266, Val Accuracy: 84.06%\n",
            "Epoch [5/10] - Train Loss: 0.7301, Train Accuracy: 71.17% - Val Loss: 0.4073, Val Accuracy: 85.66%\n",
            "Epoch [6/10] - Train Loss: 0.7071, Train Accuracy: 72.11% - Val Loss: 0.4054, Val Accuracy: 85.67%\n",
            "Epoch [7/10] - Train Loss: 0.6849, Train Accuracy: 73.39% - Val Loss: 0.3816, Val Accuracy: 87.52%\n",
            "Epoch [8/10] - Train Loss: 0.6757, Train Accuracy: 73.47% - Val Loss: 0.3519, Val Accuracy: 87.87%\n",
            "Epoch [9/10] - Train Loss: 0.6628, Train Accuracy: 74.27% - Val Loss: 0.3527, Val Accuracy: 88.42%\n",
            "Epoch [10/10] - Train Loss: 0.6481, Train Accuracy: 75.01% - Val Loss: 0.3414, Val Accuracy: 87.83%\n",
            "Finished training with configuration: {'conv1_out_channels': 16, 'conv1_kernel': 3, 'conv2_out_channels': 32, 'conv2_kernel': 3, 'fc_units': 32, 'dropout': 0.6, 'lr': 0.001}\n",
            "Validation Accuracy: 87.83%\n",
            "\n"
          ]
        }
      ]
    },
    {
      "cell_type": "markdown",
      "source": [
        "**CHECKPOINT 2.2**\n",
        "<br>Report Best Configuration of Hyperparameters"
      ],
      "metadata": {
        "id": "-AoqLsvZND8a"
      }
    },
    {
      "cell_type": "code",
      "source": [
        "print(\"CHECKPOINT 2.2\\n\")\n",
        "print(f\"Best Hyperparameters: {best_hyper_params}\")"
      ],
      "metadata": {
        "id": "4gWBAddyNFnx",
        "colab": {
          "base_uri": "https://localhost:8080/"
        },
        "outputId": "035de61f-33ee-4d1f-9d20-cd491b5d1e0d"
      },
      "execution_count": null,
      "outputs": [
        {
          "output_type": "stream",
          "name": "stdout",
          "text": [
            "CHECKPOINT 2.2\n",
            "\n",
            "Best Hyperparameters: {'conv1_out_channels': 64, 'conv1_kernel': 3, 'conv2_out_channels': 128, 'conv2_kernel': 3, 'fc_units': 128, 'dropout': 0.4, 'lr': 0.001}\n"
          ]
        }
      ]
    },
    {
      "cell_type": "markdown",
      "source": [
        "\n",
        "\n",
        "---\n",
        "\n",
        "\n",
        "e) Define the method to test the CNN Model with the best hyperparameters\n",
        "\n",
        "- Use the saved CNN Model from the previous section\n",
        "- Report the test loss and accuracy"
      ],
      "metadata": {
        "id": "Ia_d9Gov3eZL"
      }
    },
    {
      "cell_type": "code",
      "source": [
        "def test_best_model():\n",
        "    best_model = CNNHyperTune(best_hyper_params)\n",
        "    best_model.load_state_dict(torch.load(\"best_model_hyper_tune.pth\"))\n",
        "\n",
        "    test_loss, test_acc = validate_model(best_model, test_loader, nn.CrossEntropyLoss())\n",
        "    print(\"Test Results - Manually Tuned Hyperparameters\\n\")\n",
        "    print(f\"Test Loss: {test_loss:.4f}\\nTest Accuracy: {test_acc:.4f}\")"
      ],
      "metadata": {
        "id": "xwwajp3r-FsS"
      },
      "execution_count": null,
      "outputs": []
    },
    {
      "cell_type": "markdown",
      "source": [
        "**CHECKPOINT 2.3**\n",
        "<br>\n",
        "f) Test the CNN with best hyperparameters\n",
        "(Extra Credit: 5 points)"
      ],
      "metadata": {
        "id": "6bvgJmw8DpKR"
      }
    },
    {
      "cell_type": "code",
      "source": [
        "print(\"CHECKPOINT 2.3\\n\")\n",
        "test_best_model()"
      ],
      "metadata": {
        "id": "t9F7a5zuDtFf",
        "colab": {
          "base_uri": "https://localhost:8080/"
        },
        "outputId": "8901910a-5d8b-46d5-9e23-f4b4ecfb1045"
      },
      "execution_count": null,
      "outputs": [
        {
          "output_type": "stream",
          "name": "stdout",
          "text": [
            "CHECKPOINT 2.3\n",
            "\n"
          ]
        },
        {
          "output_type": "stream",
          "name": "stderr",
          "text": [
            "<ipython-input-42-21bcf412dfca>:3: FutureWarning: You are using `torch.load` with `weights_only=False` (the current default value), which uses the default pickle module implicitly. It is possible to construct malicious pickle data which will execute arbitrary code during unpickling (See https://github.com/pytorch/pytorch/blob/main/SECURITY.md#untrusted-models for more details). In a future release, the default value for `weights_only` will be flipped to `True`. This limits the functions that could be executed during unpickling. Arbitrary objects will no longer be allowed to be loaded via this mode unless they are explicitly allowlisted by the user via `torch.serialization.add_safe_globals`. We recommend you start setting `weights_only=True` for any use case where you don't have full control of the loaded file. Please open an issue on GitHub for any issues related to this experimental feature.\n",
            "  best_model.load_state_dict(torch.load(\"best_model_hyper_tune.pth\"))\n"
          ]
        },
        {
          "output_type": "stream",
          "name": "stdout",
          "text": [
            "Test Results - Manually Tuned Hyperparameters\n",
            "\n",
            "Test Loss: 0.2538\n",
            "Test Accuracy: 91.5200\n"
          ]
        }
      ]
    },
    {
      "cell_type": "markdown",
      "source": [
        "\n",
        "\n",
        "---\n",
        "\n",
        "\n",
        "<b>Q. What effect does the above hyperparameter tuning offer? Note your observations.</b> (5 points)\n",
        "\n",
        "<u>Answer</u>\n",
        "When you iterate over the configs to find the one that yields the lowest validation loss, you find the best hyperparameters that make the model generalize to new data. From observations the tuned model on the hyperparameter performed better from the original model. When finding the best hyperparameter, at each config the model accuracy decreased. This config did the worse, {'conv1_out_channels': 16, 'conv1_kernel': 5, 'conv2_out_channels': 32, 'conv2_kernel': 5, 'fc_units': 64, 'dropout': 0.3, 'lr': 0.005}. It is hard to pin point what specific setting makes the model to well or worse.\n",
        "\n",
        "Having a moderate dropout rates helped to prevent overfitting and a learning rate of 0.005 ensured stable training."
      ],
      "metadata": {
        "id": "aE2cx-jv-X9D"
      }
    },
    {
      "cell_type": "markdown",
      "source": [
        "\n",
        "\n",
        "---\n",
        "\n",
        "\n",
        "\n",
        "---\n",
        "\n"
      ],
      "metadata": {
        "id": "KytvFxVZ-I17"
      }
    },
    {
      "cell_type": "markdown",
      "source": [
        "<b>II. Modify Architecture - II</b> (25 points)\n",
        "\n",
        "Make the following changes to the CNN Architecture:\n",
        "1. Change the number of convolutional layers\n",
        "2. Use a different activation function\n",
        "3. Use a different optimizer\n",
        "\n",
        "- Report loss and accuracy on the train and validation sets for each epoch\n",
        "- Plot the Train vs. Validation Curves for Accuracy and Loss\n",
        "- Evaluate the model on the test set and report the test loss and accuracy.\n"
      ],
      "metadata": {
        "id": "lC8ErEGB-StF"
      }
    },
    {
      "cell_type": "markdown",
      "source": [
        "\n",
        "\n",
        "---\n",
        "\n",
        "\n",
        "Print the following Checkpoints to show your progress:\n",
        "\n",
        "**Checkpoint 2.4:**\n",
        "<br>Model summary\n",
        "\n",
        "**Checkpoint 2.5:**\n",
        "<br>Per epoch loss and accuracy on the train and validation sets\n",
        "\n",
        "**Checkpoint 2.6:**\n",
        "<br>Train vs. Validation Curves for Accuracy and Loss\n",
        "\n",
        "**Checkpoint 2.7:**\n",
        "<br>Test Loss and Test Accuracy\n",
        "\n",
        "\n",
        "---\n",
        "\n"
      ],
      "metadata": {
        "id": "iGHTK_SqSDOF"
      }
    },
    {
      "cell_type": "markdown",
      "source": [
        "a. Modified Architecture (10 points)"
      ],
      "metadata": {
        "id": "D0zKW77fbR7b"
      }
    },
    {
      "cell_type": "code",
      "source": [
        "# Modified CNN - Architecture\n",
        "# use 3 con layer\n",
        "# leakyrelu\n",
        "# SGD instead of adam\n",
        "\n",
        "class CNNHyperTuneArch(nn.Module):\n",
        "    def __init__(self):\n",
        "        super(CNNHyperTuneArch, self).__init__()\n",
        "        # add layers to CNN model\n",
        "        ##### ---------- INSERT YOUR CODE HERE ---------- #####\n",
        "\n",
        "        self.conv1 = nn.Conv2d(1, 32, kernel_size=3)\n",
        "        self.pool = nn.MaxPool2d(2, 2)\n",
        "        self.conv2 = nn.Conv2d(32, 64, kernel_size=3)\n",
        "        self.pool2 = nn.MaxPool2d(2, 2)\n",
        "        self.conv3 = nn.Conv2d(64, 128, kernel_size=3)\n",
        "        self.pool3 = nn.MaxPool2d(2, 2)\n",
        "\n",
        "        self.activation = nn.LeakyReLU(negative_slope=0.01)\n",
        "\n",
        "        self.fc1 = nn.Linear(128 * 1 * 1, 128)\n",
        "\n",
        "        self.dropout = nn.Dropout(0.3)\n",
        "\n",
        "        self.fc2 = nn.Linear(128, 10)\n",
        "\n",
        "        self.flattened_size = self._get_flattened_size(torch.zeros(1, 1, 28, 28))\n",
        "\n",
        "        ##### ---------- END CODE HERE ---------- #####\n",
        "\n",
        "\n",
        "    def forward(self, x):\n",
        "        # construct CNN model\n",
        "        ##### ---------- INSERT YOUR CODE HERE ---------- #####\n",
        "\n",
        "        x = self.pool(self.activation(self.conv1(x)))\n",
        "        x = self.pool2(self.activation(self.conv2(x)))\n",
        "        x = self.pool3(self.activation(self.conv3(x)))\n",
        "\n",
        "        x = x.view(-1, self.flattened_size)\n",
        "\n",
        "        x = self.activation(self.fc1(x))\n",
        "        x = self.dropout(x)\n",
        "        x = self.fc2(x)\n",
        "\n",
        "        return x\n",
        "\n",
        "\n",
        "    def _get_flattened_size(self, x):\n",
        "        # redefine method to work for your architecture\n",
        "        ##### ---------- INSERT YOUR CODE HERE ---------- #####\n",
        "        x = self.pool(self.activation(self.conv1(x)))\n",
        "        x = self.pool2(self.activation(self.conv2(x)))\n",
        "        x = self.pool3(self.activation(self.conv3(x)))\n",
        "        ##### ---------- END CODE HERE ---------- #####\n",
        "        return x.numel()"
      ],
      "metadata": {
        "id": "zo4SQSt7-Jy4"
      },
      "execution_count": null,
      "outputs": []
    },
    {
      "cell_type": "code",
      "source": [
        "print(\"CHECKPOINT 2.4\\n\")\n",
        "model = CNNHyperTuneArch()\n",
        "summary(model, (1, 28, 28))"
      ],
      "metadata": {
        "id": "HTTsoWjYbvdG",
        "colab": {
          "base_uri": "https://localhost:8080/"
        },
        "outputId": "b8e3a4e9-972a-4a65-f1c9-6eb50ea21f64"
      },
      "execution_count": null,
      "outputs": [
        {
          "output_type": "stream",
          "name": "stdout",
          "text": [
            "CHECKPOINT 2.4\n",
            "\n",
            "----------------------------------------------------------------\n",
            "        Layer (type)               Output Shape         Param #\n",
            "================================================================\n",
            "            Conv2d-1           [-1, 32, 26, 26]             320\n",
            "         LeakyReLU-2           [-1, 32, 26, 26]               0\n",
            "         MaxPool2d-3           [-1, 32, 13, 13]               0\n",
            "            Conv2d-4           [-1, 64, 11, 11]          18,496\n",
            "         LeakyReLU-5           [-1, 64, 11, 11]               0\n",
            "         MaxPool2d-6             [-1, 64, 5, 5]               0\n",
            "            Conv2d-7            [-1, 128, 3, 3]          73,856\n",
            "         LeakyReLU-8            [-1, 128, 3, 3]               0\n",
            "         MaxPool2d-9            [-1, 128, 1, 1]               0\n",
            "           Linear-10                  [-1, 128]          16,512\n",
            "        LeakyReLU-11                  [-1, 128]               0\n",
            "          Dropout-12                  [-1, 128]               0\n",
            "           Linear-13                   [-1, 10]           1,290\n",
            "================================================================\n",
            "Total params: 110,474\n",
            "Trainable params: 110,474\n",
            "Non-trainable params: 0\n",
            "----------------------------------------------------------------\n",
            "Input size (MB): 0.00\n",
            "Forward/backward pass size (MB): 0.52\n",
            "Params size (MB): 0.42\n",
            "Estimated Total Size (MB): 0.95\n",
            "----------------------------------------------------------------\n"
          ]
        }
      ]
    },
    {
      "cell_type": "markdown",
      "source": [
        "b. Training Function (10 points)"
      ],
      "metadata": {
        "id": "3EsjntfdbW4g"
      }
    },
    {
      "cell_type": "code",
      "source": [
        "# Train the model and return the results\n",
        "# Use training function from Section 1 as reference\n",
        "def train_hyperTune_Arch():\n",
        "    print(\"Checkpoint 2.5\\n\")\n",
        "\n",
        "    model = CNNHyperTuneArch()\n",
        "    criterion = nn.CrossEntropyLoss()\n",
        "    optimizer = optim.SGD(model.parameters(), lr=0.01, momentum=0.9)\n",
        "\n",
        "    best_val_loss = float('inf')\n",
        "    epochs = 10\n",
        "    train_losses, val_losses, train_accs, val_accs = [], [], [], []\n",
        "\n",
        "    for epoch in range(epochs):\n",
        "        model.train()\n",
        "        running_loss, correct_preds, total = 0.0, 0, 0\n",
        "        for images, labels in train_loader:\n",
        "            optimizer.zero_grad()\n",
        "            outputs = model(images)\n",
        "\n",
        "            loss = criterion(outputs, labels)\n",
        "            loss.backward()\n",
        "            optimizer.step()\n",
        "\n",
        "            running_loss += loss.item()\n",
        "            _, preds = torch.max(outputs, 1)\n",
        "            correct_preds += (preds == labels).sum().item()\n",
        "            total += labels.size(0)\n",
        "\n",
        "        train_acc = (correct_preds / total) * 100\n",
        "        train_loss = (running_loss / len(train_loader))\n",
        "        val_loss, val_acc = validate_model(model, val_loader, criterion)\n",
        "\n",
        "\n",
        "        # Save the metrics for plotting accuracy and loss curves\n",
        "        train_losses.append(train_loss)\n",
        "        val_losses.append(val_loss)\n",
        "        train_accs.append(train_acc)\n",
        "        val_accs.append(val_acc)\n",
        "\n",
        "        print(\"Metrics\")\n",
        "        ##### ---------- INSERT YOUR CODE HERE ---------- #####\n",
        "        print(f\"Epoch {epoch+1}/{epochs}: Train Loss: {train_loss:.4f}, Train Acc: {train_acc:.2f}%, \"\n",
        "              f\"Val Loss: {val_loss:.4f}, Val Acc: {val_acc:.2f}%\")\n",
        "\n",
        "        # Save the model if it has the best validation loss\n",
        "        if val_loss < best_val_loss:\n",
        "            best_val_loss = val_loss\n",
        "            torch.save(model.state_dict(), \"best_modified_hyper_tuned_fashion_model.pth\")\n",
        "\n",
        "    # 5. Plot accuracy and loss curves\n",
        "    print(\"Checkpoint 2.6\\n\")\n",
        "    plot_graphs(train_losses, val_losses, \"Training vs Validation Loss\", \"Epochs\", \"Loss\")\n",
        "    plot_graphs(train_accs, val_accs, \"Training vs Validation Accuracy\", \"Epochs\", \"Accuracy\")\n",
        "\n",
        "\n",
        "\n"
      ],
      "metadata": {
        "id": "wVvNrAnpTd2t"
      },
      "execution_count": null,
      "outputs": []
    },
    {
      "cell_type": "code",
      "source": [
        "train_hyperTune_Arch()"
      ],
      "metadata": {
        "id": "RYKpTeKzUoUx",
        "colab": {
          "base_uri": "https://localhost:8080/",
          "height": 1000
        },
        "outputId": "a6ee8d00-42b1-4ab9-a734-767417b1e7b0"
      },
      "execution_count": null,
      "outputs": [
        {
          "output_type": "stream",
          "name": "stdout",
          "text": [
            "Checkpoint 2.5\n",
            "\n",
            "Metrics\n",
            "Epoch 1/10: Train Loss: 0.8911, Train Acc: 67.03%, Val Loss: 0.5340, Val Acc: 79.47%\n",
            "Metrics\n",
            "Epoch 2/10: Train Loss: 0.5339, Train Acc: 80.50%, Val Loss: 0.4711, Val Acc: 82.72%\n",
            "Metrics\n",
            "Epoch 3/10: Train Loss: 0.4518, Train Acc: 83.52%, Val Loss: 0.4064, Val Acc: 84.72%\n",
            "Metrics\n",
            "Epoch 4/10: Train Loss: 0.4040, Train Acc: 85.50%, Val Loss: 0.3659, Val Acc: 86.39%\n",
            "Metrics\n",
            "Epoch 5/10: Train Loss: 0.3698, Train Acc: 86.57%, Val Loss: 0.3701, Val Acc: 86.04%\n",
            "Metrics\n",
            "Epoch 6/10: Train Loss: 0.3392, Train Acc: 87.84%, Val Loss: 0.3254, Val Acc: 87.80%\n",
            "Metrics\n",
            "Epoch 7/10: Train Loss: 0.3187, Train Acc: 88.34%, Val Loss: 0.3362, Val Acc: 87.67%\n",
            "Metrics\n",
            "Epoch 8/10: Train Loss: 0.2973, Train Acc: 89.16%, Val Loss: 0.3067, Val Acc: 88.82%\n",
            "Metrics\n",
            "Epoch 9/10: Train Loss: 0.2760, Train Acc: 89.85%, Val Loss: 0.3501, Val Acc: 87.04%\n",
            "Metrics\n",
            "Epoch 10/10: Train Loss: 0.2625, Train Acc: 90.35%, Val Loss: 0.3021, Val Acc: 88.52%\n",
            "Checkpoint 2.6\n",
            "\n"
          ]
        },
        {
          "output_type": "display_data",
          "data": {
            "text/plain": [
              "<Figure size 1000x500 with 1 Axes>"
            ],
            "image/png": "[encoded data removed]"
          },
          "metadata": {}
        },
        {
          "output_type": "display_data",
          "data": {
            "text/plain": [
              "<Figure size 1000x500 with 1 Axes>"
            ],
            "image/png": "[encoded data removed]"
          },
          "metadata": {}
        }
      ]
    },
    {
      "cell_type": "markdown",
      "source": [
        "c. Test Model (Extra Credit: 5 points)"
      ],
      "metadata": {
        "id": "RlfqKzYYbcHf"
      }
    },
    {
      "cell_type": "code",
      "source": [
        "# test the best model\n",
        "def test_hyperTune_Arch():\n",
        "    model = CNNHyperTuneArch()\n",
        "    model.load_state_dict(torch.load(\"best_modified_hyper_tuned_fashion_model.pth\"))\n",
        "\n",
        "    test_loss, test_acc = validate_model(model, test_loader, nn.CrossEntropyLoss())\n",
        "    print(f\"\\nTest Loss: {test_loss:.4f}\\nTest Accuracy: {test_acc:.4f}\")"
      ],
      "metadata": {
        "id": "jVbXzy83VK58"
      },
      "execution_count": null,
      "outputs": []
    },
    {
      "cell_type": "code",
      "source": [
        "print(\"CHECKPOINT 2.7\\n\")\n",
        "test_hyperTune_Arch()"
      ],
      "metadata": {
        "id": "gJGAIp9VVqZn",
        "colab": {
          "base_uri": "https://localhost:8080/"
        },
        "outputId": "5ac21774-fb39-454c-cd2d-35ef5e00c90b"
      },
      "execution_count": null,
      "outputs": [
        {
          "output_type": "stream",
          "name": "stdout",
          "text": [
            "CHECKPOINT 2.7\n",
            "\n"
          ]
        },
        {
          "output_type": "stream",
          "name": "stderr",
          "text": [
            "<ipython-input-48-8d8095f06125>:4: FutureWarning: You are using `torch.load` with `weights_only=False` (the current default value), which uses the default pickle module implicitly. It is possible to construct malicious pickle data which will execute arbitrary code during unpickling (See https://github.com/pytorch/pytorch/blob/main/SECURITY.md#untrusted-models for more details). In a future release, the default value for `weights_only` will be flipped to `True`. This limits the functions that could be executed during unpickling. Arbitrary objects will no longer be allowed to be loaded via this mode unless they are explicitly allowlisted by the user via `torch.serialization.add_safe_globals`. We recommend you start setting `weights_only=True` for any use case where you don't have full control of the loaded file. Please open an issue on GitHub for any issues related to this experimental feature.\n",
            "  model.load_state_dict(torch.load(\"best_modified_hyper_tuned_fashion_model.pth\"))\n"
          ]
        },
        {
          "output_type": "stream",
          "name": "stdout",
          "text": [
            "\n",
            "Test Loss: 0.3237\n",
            "Test Accuracy: 88.3100\n"
          ]
        }
      ]
    },
    {
      "cell_type": "markdown",
      "source": [
        "\n",
        "\n",
        "---\n",
        "\n",
        "\n",
        "<b>Q. How does this model perform in comparision to the other two? Note your observations and findings.</b> (5 points)\n",
        "\n",
        "<u>Answer</u>\n",
        "\n",
        "This model did terrible compared to the other 2. The test loss is higher with 0.3237 and a test accuracy of 88%. This could be due to the  overfitting of the model to the training data, inadequate network architecture for the task, or insufficient regularization. Also, the choice of hyperparameters such as learning rate or batch size might not have been optimal, affecting the model's ability to generalize well on unseen data.\n"
      ],
      "metadata": {
        "id": "Y--BWCw-_fX9"
      }
    },
    {
      "cell_type": "markdown",
      "source": [
        "\n",
        "\n",
        "---\n",
        "\n",
        "\n",
        "\n",
        "---\n",
        "\n"
      ],
      "metadata": {
        "id": "KfQaOQ6wCoX-"
      }
    },
    {
      "cell_type": "markdown",
      "source": [
        "<h2><b>SECTION 3: THEORY</b></h2>\n",
        "<h4>[15/100 POINTS]</h4>\n",
        "\n",
        "\n",
        "---\n",
        "\n"
      ],
      "metadata": {
        "id": "G1XNOZk8D8_r"
      }
    },
    {
      "cell_type": "markdown",
      "source": [
        "<b>Q. What are activation functions? How does ReLU work?</b> (5 points)\n",
        "\n",
        "<u>Answer</u>\n",
        "\n",
        "Activation functions in neural networks decide whether a neuron should be activated or not. This brings non-linearity to the system so it can handle more complex functions.\n",
        "\n",
        "Recitified Linear Unit is very popular and it works by giving an output directly from the input if positive otherwise it would output 0. This is the simple explanation, and a downside to the RELU is that it can stop responding entirely known as the dying relu"
      ],
      "metadata": {
        "id": "dupiVKU9_viD"
      }
    },
    {
      "cell_type": "markdown",
      "source": [
        "<b>Q.What are optimizers and what do they do? What does Adam Optimizer do?</b> (5 points)\n",
        "\n",
        "<u>Answer</u>\n",
        "\n",
        "Optimizers are tools used in neural networks to minimize or maximize functions, usually is loss functions, which is to see the error between the predicted output and the actual output. Optimizer make adjustments to the weights so that it can minimize loss.\n",
        "\n",
        "Adam Optimizer, uses squared gradients to scale the learning rate. It also uses momentum from the moving average of the gradient. This optimizer is effective for larger datasets and high dimentionality."
      ],
      "metadata": {
        "id": "zmo9Qx5s__5m"
      }
    },
    {
      "cell_type": "markdown",
      "source": [
        "<b>Q. What does regularization do and how would it help our CNN model?</b> (5 points)\n",
        "\n",
        "<u>Answer</u>\n",
        "\n",
        "Regularization is a technique to prevent a model from overfitting to the training data. Which results in the model doing well at unseen data.\n",
        "\n",
        "For our CNN model, regularization can help the model become less complex and make the performance of predicting on unseen data more accurate."
      ],
      "metadata": {
        "id": "Ev_MSdUAAOFz"
      }
    },
    {
      "cell_type": "markdown",
      "source": [
        "\n",
        "\n",
        "---\n",
        "\n",
        "\n",
        "\n",
        "---\n",
        "\n",
        "## Submission guidelines\n",
        "---\n",
        "Download the .ipynb file to a folder of your preference. All you need to do is to fill in the blanks as indicated.\n",
        "\n",
        "When submitting your .zip file through brightspace, please\n",
        "-- name your .zip file as **Surname_Givenname_SBUID_hw3.zip**.\n",
        "\n",
        "This zip file should include:\n",
        "```\n",
        "Surname_Givenname_SBUID_hw*\n",
        "        |---Surname_Givenname_SBUID_hw#*.ipynb\n",
        "        |---Surname_Givenname_SBUID_hw#*.pdf\n",
        "```\n",
        "\n",
        "For instance, student Bill Gates should submit a zip file named \"Gates_Bill_111134567_hw3.zip\" for homework3 in this structure:\n",
        "```\n",
        "Gates_Bill_111134567_hw3\n",
        "        |---Gates_Bill_111134567_hw3.ipynb\n",
        "        |---Gates_Bill_111134567_hw3.pdf\n",
        "```\n",
        "\n",
        "The **Surname_Givenname_SBUID_hw#*.pdf** should only include a **google shared link**. To generate the **google shared link**, first create a folder named **Surname_Givenname_SBUID_hw#*** in your Google Drive with your Stony Brook account. The structure of the files in the folder should be exactly the same as the one you downloaded. If you alter the folder structures, the grading of your homework will be significantly delayed and possibly penalized.\n",
        "\n",
        "Then right click this folder, click ***Get shareable link***, in the People textfield, enter TA's emails: **draghuraman@cs.stonybrook.edu**. Make sure that TA ***Deepshika Raghuraman*** has the link and **can edit**, ***not just*** **view**, and also **uncheck** the **Notify people** box.\n",
        "\n",
        "Colab has a good feature of version control, you should take advantage of this to save your work properly. However, the timestamp of the submission made in blackboard is the only one that we consider for grading. To be more specific, we will only grade the version of your code right before the timestamp of the submission made in blackboard.\n",
        "\n",
        "You are encouraged to post and answer questions on Piazza. Based on the amount of email that we have received in past years, there might be delays in replying to personal emails. Please ask questions on Piazza and send emails only for personal issues. Also feel free to drop by the TAs office hours.\n",
        "\n",
        "Be aware that your code will undergo plagiarism check both vertically and horizontally. Please do your own work.\n",
        "\n",
        "---\n",
        "---\n"
      ],
      "metadata": {
        "id": "d72_iQ92Cm_w"
      }
    },
    {
      "cell_type": "markdown",
      "source": [
        "<h2><b>RESOURCES</b></h2>\n",
        "\n",
        "Here are some resources that you can look at if you want to learn more about CNNs and Deep Learning in general:<br><br>\n",
        "\n",
        "<u>Understanding CNNs - A Keras Implementation</u>\n",
        "<br>\n",
        "https://www.kaggle.com/code/kanncaa1/convolutional-neural-network-cnn-tutorial\n",
        "<br><br>\n",
        "\n",
        "<u>CNN Binary Image Classification using PyTorch - A Detailed Guide</u>\n",
        "<br>\n",
        "https://www.kaggle.com/code/shtrausslearning/pytorch-cnn-binary-image-classification/notebook\n",
        "<br><br>\n",
        "\n",
        "\n",
        "<u>PyTorch Tutorial for Deep Learning</u>\n",
        "<br>\n",
        "https://www.kaggle.com/code/kanncaa1/pytorch-tutorial-for-deep-learning-lovers/notebook\n",
        "<br><br>\n",
        "\n",
        "<u>A Guide on How to Choose CNN Architecture</u>\n",
        "<br>\n",
        "https://www.kaggle.com/code/cdeotte/how-to-choose-cnn-architecture-mnist"
      ],
      "metadata": {
        "id": "yHEC-l1tEBHH"
      }
    }
  ]
}